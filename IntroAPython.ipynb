{
  "cells": [
    {
      "cell_type": "markdown",
      "metadata": {
        "id": "view-in-github",
        "colab_type": "text"
      },
      "source": [
        "<a href=\"https://colab.research.google.com/github/angievig/CyED3/blob/main/IntroAPython.ipynb\" target=\"_parent\"><img src=\"https://colab.research.google.com/assets/colab-badge.svg\" alt=\"Open In Colab\"/></a>"
      ]
    },
    {
      "cell_type": "markdown",
      "metadata": {
        "id": "BQMAppezmX8U"
      },
      "source": [
        "# Introducción a la Programación en Python"
      ]
    },
    {
      "cell_type": "markdown",
      "metadata": {
        "id": "bda3IcdmmX8W"
      },
      "source": [
        "## Variables y tipos de datos"
      ]
    },
    {
      "cell_type": "markdown",
      "metadata": {
        "id": "fifQ4_XCmX8W"
      },
      "source": [
        "### Cadenas de caracteres"
      ]
    },
    {
      "cell_type": "markdown",
      "metadata": {
        "id": "A8BdlKnzmX8X"
      },
      "source": [
        "Las cadenas de caracteres en Python se especifican utilizando un par de comillas sencillas o un par de comillas dobles, pero no combinarlas entre ellas."
      ]
    },
    {
      "cell_type": "markdown",
      "metadata": {
        "id": "Y1kyDlg_mX8X"
      },
      "source": [
        "Podemos utilizar el método print para imprimir en pantalla un valor (numérico, cadena de caracteres, o concatenación que combine varios tipos de valores)."
      ]
    },
    {
      "cell_type": "code",
      "execution_count": null,
      "metadata": {
        "id": "JWah7qofmX8X",
        "outputId": "fe7b9d9b-cf0c-45df-a03f-65790381ac03"
      },
      "outputs": [
        {
          "name": "stdout",
          "output_type": "stream",
          "text": [
            "Hola Mundo 1\n",
            "Hola Mundo 2\n"
          ]
        }
      ],
      "source": [
        "print(\"Hola Mundo 1\")\n",
        "print('Hola Mundo 2')"
      ]
    },
    {
      "cell_type": "markdown",
      "metadata": {
        "id": "Xx2_LIucmX8Z"
      },
      "source": [
        "Las variables son espacios de memoria donde se almacenan valores. Son referenciados por nombres (identificadores).\n",
        "\n",
        "Podemos asignar una cadena de caracteres como el valor de una variable que podrá ser utilizada posteriormente utilizando \"=\".\n",
        "El tipo de las variables no se especifica directamente, se infiere dependiendo del valor que se va a asignar.\n",
        "Las cadenas de caracteres se pueden concatenar usando el operador \"+\".\n"
      ]
    },
    {
      "cell_type": "code",
      "execution_count": null,
      "metadata": {
        "id": "VbQzOeCcmX8Z",
        "outputId": "90314e58-0885-4c41-bd53-c54f6e9da8ee"
      },
      "outputs": [
        {
          "name": "stdout",
          "output_type": "stream",
          "text": [
            "este texto, otro texto\n",
            "Lo vuelvo a imprimir: este texto, otro texto\n"
          ]
        }
      ],
      "source": [
        "texto1 = \"este texto\"\n",
        "texto2 = \"otro texto\"\n",
        "print(texto1 + \", \" + texto2)\n",
        "texto3 = texto1 + \", \" + texto2\n",
        "print(\"Lo vuelvo a imprimir: \" + texto3)"
      ]
    },
    {
      "cell_type": "markdown",
      "metadata": {
        "id": "Xj_xpB_fmX8Z"
      },
      "source": [
        "Podemos incluir caracteres especiales utilizando un backslash \"\\\"."
      ]
    },
    {
      "cell_type": "code",
      "execution_count": null,
      "metadata": {
        "id": "vgJSFST_mX8Z",
        "outputId": "ac2087a6-6ce8-40fd-82c2-bf71aecfbd08"
      },
      "outputs": [
        {
          "name": "stdout",
          "output_type": "stream",
          "text": [
            "texto con comillas \"comillas\"\n"
          ]
        }
      ],
      "source": [
        "print(\"texto con comillas \\\"comillas\\\"\")"
      ]
    },
    {
      "cell_type": "code",
      "execution_count": null,
      "metadata": {
        "id": "VDoq55timX8a",
        "outputId": "46edfc63-4934-407c-b626-43fb43b94866"
      },
      "outputs": [
        {
          "name": "stdout",
          "output_type": "stream",
          "text": [
            "texto en varias lineas\n"
          ]
        }
      ],
      "source": [
        "print(\"texto en \\\n",
        "varias \\\n",
        "lineas\")"
      ]
    },
    {
      "cell_type": "markdown",
      "metadata": {
        "id": "gdpT6zs4mX8a"
      },
      "source": [
        "Podemos repetir varias veces una cadena de caracteres con el caracter de asterisco."
      ]
    },
    {
      "cell_type": "code",
      "execution_count": null,
      "metadata": {
        "id": "21AgpXjWmX8a",
        "outputId": "b88f4a6b-19d2-4fdd-f7ae-029c6054ea2a"
      },
      "outputs": [
        {
          "data": {
            "text/plain": [
              "'siriri'"
            ]
          },
          "execution_count": 5,
          "metadata": {},
          "output_type": "execute_result"
        }
      ],
      "source": [
        "\"si\"+(\"ri\"*2)"
      ]
    },
    {
      "cell_type": "markdown",
      "metadata": {
        "id": "979fk7VTmX8a"
      },
      "source": [
        "### Números (int, float)\n",
        "\n",
        "Hay dos tipos de datos numéricos en Python: **int** (para números enteros) y **float** (para números con decimales, utilizando el punto y no la coma como separador).\n",
        "El tipo de un número depende de cómo se especifica: si se escribe con o sin punto se determina si se trata de un **int** o de un **float**.\n"
      ]
    },
    {
      "cell_type": "code",
      "execution_count": null,
      "metadata": {
        "id": "uzjoDlIsmX8a",
        "outputId": "966ce426-50a0-412a-c669-9b817be20428"
      },
      "outputs": [
        {
          "name": "stdout",
          "output_type": "stream",
          "text": [
            "14\n",
            "14.0\n",
            "111111111112\n"
          ]
        }
      ],
      "source": [
        "print (14)\n",
        "print (14.0)\n",
        "print(111111111111+1)"
      ]
    },
    {
      "cell_type": "markdown",
      "metadata": {
        "id": "tAiBRVFsmX8a"
      },
      "source": [
        "Podemos asignar un valor a una variable, para poder utilizarla posteriormente. El tipo de las variables no se especifica directamente, se infiere dependiendo del valor que se va a asignar.\n",
        "La función **type()** permite preguntar el tipo específico de un valor o de una variable."
      ]
    },
    {
      "cell_type": "code",
      "execution_count": null,
      "metadata": {
        "id": "lYl66L8jmX8b",
        "outputId": "406009a8-36f2-4765-803c-d381b3fd067f"
      },
      "outputs": [
        {
          "name": "stdout",
          "output_type": "stream",
          "text": [
            "<class 'int'>\n",
            "<class 'float'>\n",
            "<class 'str'>\n",
            "<class 'int'>\n",
            "<class 'float'>\n",
            "<class 'str'>\n"
          ]
        }
      ],
      "source": [
        "print(type(14))\n",
        "print(type(14.0))\n",
        "print(type(\"una cadena\"))\n",
        "i=89\n",
        "j=89.0\n",
        "cad=\"una cadena\"\n",
        "print(type(i))\n",
        "print(type(j))\n",
        "print(type(cad))"
      ]
    },
    {
      "cell_type": "markdown",
      "metadata": {
        "id": "XqFBhAw2mX8b"
      },
      "source": [
        "Los números tienen los límites siguientes:"
      ]
    },
    {
      "cell_type": "code",
      "execution_count": null,
      "metadata": {
        "id": "IhYqVqpKmX8b",
        "outputId": "194cc7ad-ef28-4add-c9b2-be19ee708612"
      },
      "outputs": [
        {
          "name": "stdout",
          "output_type": "stream",
          "text": [
            "1.79e+308\n",
            "inf\n",
            "-1.79e+308\n",
            "-inf\n"
          ]
        }
      ],
      "source": [
        "#Límite superior\n",
        "print (1.79e308)\n",
        "print (1.8e308)\n",
        "\n",
        "#Límite inferior\n",
        "print (-1.79e308)\n",
        "print (-1.8e308)"
      ]
    },
    {
      "cell_type": "code",
      "execution_count": null,
      "metadata": {
        "id": "9XRLoUKimX8b",
        "outputId": "307355f4-b267-4374-cf20-53db9d8cad5a"
      },
      "outputs": [
        {
          "name": "stdout",
          "output_type": "stream",
          "text": [
            "5e-324\n",
            "0.0\n"
          ]
        }
      ],
      "source": [
        "#Límites cercanos a cero\n",
        "print (5e-324)\n",
        "print (2e-324)"
      ]
    },
    {
      "cell_type": "code",
      "execution_count": null,
      "metadata": {
        "id": "lWJZOnlCmX8b",
        "outputId": "d466ad02-db70-4424-cad1-67a5ea642fcc"
      },
      "outputs": [
        {
          "name": "stdout",
          "output_type": "stream",
          "text": [
            "1.2345678901234567\n"
          ]
        }
      ],
      "source": [
        "# Límite en la precisión de los números de punto flotante\n",
        "print (1.2345678901234567890123456789)"
      ]
    },
    {
      "cell_type": "code",
      "execution_count": null,
      "metadata": {
        "id": "I-vmI1a5mX8c",
        "outputId": "572367b8-441e-49ba-b87c-f9f5bfa6fa46"
      },
      "outputs": [
        {
          "name": "stdout",
          "output_type": "stream",
          "text": [
            "1.2345678901234568e+28\n"
          ]
        }
      ],
      "source": [
        "print (12345678901234567890123456789.0)"
      ]
    },
    {
      "cell_type": "markdown",
      "metadata": {
        "id": "CD_17s_0mX8c"
      },
      "source": [
        "Se pueden realizar operaciones de suma, resta, multiplicación, etc., conjuntamente con la asignación a una variable en una sola operación."
      ]
    },
    {
      "cell_type": "code",
      "execution_count": null,
      "metadata": {
        "id": "r_ZnT7BdmX8c",
        "outputId": "d7ce6e3a-ab6d-4cf4-a51e-083e2816b164"
      },
      "outputs": [
        {
          "name": "stdout",
          "output_type": "stream",
          "text": [
            "5\n",
            "6\n",
            "7\n",
            "12\n",
            "36\n",
            "9\n"
          ]
        }
      ],
      "source": [
        "a = 5\n",
        "print (a)\n",
        "a = a + 1\n",
        "print (a)\n",
        "a += 1\n",
        "print (a)\n",
        "a += 5\n",
        "print (a)\n",
        "a *= 3\n",
        "print (a)\n",
        "a //= 4\n",
        "print (a)"
      ]
    },
    {
      "cell_type": "markdown",
      "metadata": {
        "id": "204omrJ1mX8c"
      },
      "source": [
        "### Combinación y formateo"
      ]
    },
    {
      "cell_type": "markdown",
      "metadata": {
        "id": "SXYFC6aJmX8c"
      },
      "source": [
        "Podemos transformar valores numéricos a cadenas de caracteres usando la función **str()**.\n",
        "Inversamente, podemos transformar cadenas de caracteres a números utilizando las funciones **int()** y **float()**."
      ]
    },
    {
      "cell_type": "code",
      "execution_count": null,
      "metadata": {
        "id": "Du8nXQnRmX8c",
        "outputId": "19105b1d-f933-4020-853d-56582b5a71a8"
      },
      "outputs": [
        {
          "name": "stdout",
          "output_type": "stream",
          "text": [
            "El valor de j es: 89.92836\n"
          ]
        }
      ],
      "source": [
        "j=89.92836\n",
        "print(\"El valor de j es: \"+str(j))"
      ]
    },
    {
      "cell_type": "code",
      "execution_count": null,
      "metadata": {
        "id": "FekKVQ0LmX8c",
        "outputId": "4285fe4a-5e0f-4d41-acb6-efb18cd09667"
      },
      "outputs": [
        {
          "name": "stdout",
          "output_type": "stream",
          "text": [
            "100.92836\n",
            "100\n"
          ]
        }
      ],
      "source": [
        "print(11 + float(j))\n",
        "print(11 + int(j))"
      ]
    },
    {
      "cell_type": "markdown",
      "metadata": {
        "id": "-Gwvwn9NmX8d"
      },
      "source": [
        "Podemos formatear las cadenas utilizando la función **format()**, que remplazará en la cadena de caracteres los valores que se indican entre \"{}\"."
      ]
    },
    {
      "cell_type": "code",
      "execution_count": null,
      "metadata": {
        "id": "gM6N_q-ymX8d",
        "outputId": "4ba35f06-5bce-48c4-bfbb-966e42c252a0"
      },
      "outputs": [
        {
          "name": "stdout",
          "output_type": "stream",
          "text": [
            "Imprimo un texto directamente: este texto\n",
            "El valor de i es: 12345678901234\n",
            "El valor de j es: 89.92836284478241\n",
            "El valor de i es: 12345678901234 y el de j es 89.92836284478241\n"
          ]
        }
      ],
      "source": [
        "i=12345678901234\n",
        "j=89.928362844782419348\n",
        "print(\"Imprimo un texto directamente: {}\".format(texto1))\n",
        "print(\"El valor de i es: {}\".format(i))\n",
        "print(\"El valor de j es: {}\".format(j))\n",
        "print(\"El valor de i es: {} y el de j es: {}\".format(i,j))"
      ]
    },
    {
      "cell_type": "markdown",
      "metadata": {
        "id": "76Bs4WQOmX8d"
      },
      "source": [
        "Se puede cambiar el formato de los valores´numéricos utilizando \":\", seguido del número de caracteres a utilizar en la parte decimal después de un caracter \".\",  y de un indicador opcional del tipo de dato que se quiere formatear:\n",
        "- \"d\" para enteros decimales\n",
        "- \"f\" para punto flotante\n",
        "- \"e\" para expresiones con exponentes base 10"
      ]
    },
    {
      "cell_type": "code",
      "execution_count": null,
      "metadata": {
        "id": "IJwIY5ZHmX8d",
        "outputId": "ccc0bd19-3244-4546-ff57-0e15ad0556e1"
      },
      "outputs": [
        {
          "name": "stdout",
          "output_type": "stream",
          "text": [
            "El valor de j con dos decimales es: 12345678901234\n",
            "El valor de j con dos decimales es: 89.93\n",
            "El valor de j con dos decimales es: 89.9284\n",
            "El valor de j con dos decimales es: 8.992836e+01\n",
            "El valor de j con dos decimales es: 9.0e+01\n",
            "El valor de j con dos decimales es: 8.99e+01\n",
            "El valor de j con dos decimales es: 8.9928e+01\n",
            "El valor de j con dos decimales es: 89.9\n",
            "El valor de j con dos decimales es: 89.93\n",
            "El valor de j con dos decimales es: 89.9284\n",
            "El valor de j con dos decimales es: 9e+01\n"
          ]
        }
      ],
      "source": [
        "print(\"El valor de j con dos decimales es: {:d}\".format(i))\n",
        "print(\"El valor de j con dos decimales es: {:.2f}\".format(j))\n",
        "print(\"El valor de j con dos decimales es: {:.4f}\".format(j))\n",
        "print(\"El valor de j con dos decimales es: {:e}\".format(j))\n",
        "print(\"El valor de j con dos decimales es: {:.1e}\".format(j))\n",
        "print(\"El valor de j con dos decimales es: {:.2e}\".format(j))\n",
        "print(\"El valor de j con dos decimales es: {:.4e}\".format(j))\n",
        "print(\"El valor de j con dos decimales es: {:.1f}\".format(j))\n",
        "print(\"El valor de j con dos decimales es: {:.2f}\".format(j))\n",
        "print(\"El valor de j con dos decimales es: {:.4f}\".format(j))\n",
        "print(\"El valor de j con dos decimales es: {:.2}\".format(j))"
      ]
    },
    {
      "cell_type": "markdown",
      "metadata": {
        "id": "ivtivCS4mX8d"
      },
      "source": [
        "En el caso de impresión literal del valor, se puede obviar el \":\"."
      ]
    },
    {
      "cell_type": "code",
      "execution_count": null,
      "metadata": {
        "id": "ieShlffrmX8e",
        "outputId": "921b6d64-9c7a-4d01-c35a-c1ba2e4eda76"
      },
      "outputs": [
        {
          "name": "stdout",
          "output_type": "stream",
          "text": [
            "El valor de i es: 12345678901234\n",
            "El valor de j es: 89.92836284478241\n",
            "Imprimo un texto directamente: este texto\n"
          ]
        }
      ],
      "source": [
        "print(\"El valor de i es: {:}\".format(i))\n",
        "print(\"El valor de j es: {:}\".format(j))\n",
        "print(\"Imprimo un texto directamente: {:}\".format(texto1))"
      ]
    },
    {
      "cell_type": "markdown",
      "metadata": {
        "id": "lko6nBH8mX8e"
      },
      "source": [
        "## Operaciones Aritméticas Básicas\n",
        "Multiplicación, División, Suma, Resta, Potenciación"
      ]
    },
    {
      "cell_type": "code",
      "execution_count": null,
      "metadata": {
        "id": "Syb3pLZPmX8e",
        "outputId": "03aad3e3-76bc-4d70-9ead-ecc8e231b462"
      },
      "outputs": [
        {
          "name": "stdout",
          "output_type": "stream",
          "text": [
            "5\n",
            "22\n",
            "-23\n"
          ]
        }
      ],
      "source": [
        "print (2 + 3)\n",
        "print (45 - 23)\n",
        "print (-67 + 56 - 12)"
      ]
    },
    {
      "cell_type": "markdown",
      "metadata": {
        "id": "ZWH3ADEOmX8e"
      },
      "source": [
        "El símboolo de multiplicación es el asterisco *"
      ]
    },
    {
      "cell_type": "code",
      "execution_count": null,
      "metadata": {
        "id": "43kKnE6XmX8e",
        "outputId": "6c18ac8d-0e45-4d27-e0a5-d2802c418094"
      },
      "outputs": [
        {
          "data": {
            "text/plain": [
              "24"
            ]
          },
          "execution_count": 19,
          "metadata": {},
          "output_type": "execute_result"
        }
      ],
      "source": [
        "4 * 6"
      ]
    },
    {
      "cell_type": "markdown",
      "metadata": {
        "id": "oouJajlgmX8e"
      },
      "source": [
        "El símbolo de división es el slash"
      ]
    },
    {
      "cell_type": "code",
      "execution_count": null,
      "metadata": {
        "id": "toQqKUmNmX8e",
        "outputId": "a3ecde66-ab0e-41e3-a568-0d32e9458cf9"
      },
      "outputs": [
        {
          "name": "stdout",
          "output_type": "stream",
          "text": [
            "2.3333333333333335\n",
            "7.0\n"
          ]
        }
      ],
      "source": [
        "print (7 / 3)\n",
        "print (14 / 2)"
      ]
    },
    {
      "cell_type": "markdown",
      "metadata": {
        "id": "NjsTSmeVmX8e"
      },
      "source": [
        "El cociente entero de una división es con doble slash"
      ]
    },
    {
      "cell_type": "code",
      "execution_count": null,
      "metadata": {
        "id": "fZfRSTNxmX8f",
        "outputId": "6310ac44-ccfe-4ad3-dd2e-04f0b095a528"
      },
      "outputs": [
        {
          "name": "stdout",
          "output_type": "stream",
          "text": [
            "2\n"
          ]
        }
      ],
      "source": [
        "print (10 // 4)"
      ]
    },
    {
      "cell_type": "markdown",
      "metadata": {
        "id": "x4kQjW4SmX8f"
      },
      "source": [
        "El símbolo para la obtener el residuo de una división (también llamado módulo) es %"
      ]
    },
    {
      "cell_type": "code",
      "execution_count": null,
      "metadata": {
        "id": "ERiRzVRcmX8f",
        "outputId": "1677aafb-3269-45bc-f3ec-2513bc02265a"
      },
      "outputs": [
        {
          "name": "stdout",
          "output_type": "stream",
          "text": [
            "3\n"
          ]
        }
      ],
      "source": [
        "print (11 % 4)"
      ]
    },
    {
      "cell_type": "code",
      "execution_count": null,
      "metadata": {
        "id": "YvNBNYWVmX8f",
        "outputId": "12a90698-607a-4ed9-87b0-f1ba7ab7ec3c"
      },
      "outputs": [
        {
          "name": "stdout",
          "output_type": "stream",
          "text": [
            "2.75\n"
          ]
        }
      ],
      "source": [
        "print (11/4)"
      ]
    },
    {
      "cell_type": "code",
      "execution_count": null,
      "metadata": {
        "id": "62g5sQgmmX8f",
        "outputId": "5eec677c-a9df-45b1-f00f-8f97a76a0db1"
      },
      "outputs": [
        {
          "name": "stdout",
          "output_type": "stream",
          "text": [
            "0.75\n"
          ]
        }
      ],
      "source": [
        "print (11/4 - 11//4)"
      ]
    },
    {
      "cell_type": "markdown",
      "metadata": {
        "id": "4EOtJaC_mX8f"
      },
      "source": [
        "La elevación a una potencia se obtiene con el doble asterisco"
      ]
    },
    {
      "cell_type": "code",
      "execution_count": null,
      "metadata": {
        "id": "_QkzcSzfmX8f",
        "outputId": "64e3227e-0f16-48c8-af36-cdc3d37df309"
      },
      "outputs": [
        {
          "name": "stdout",
          "output_type": "stream",
          "text": [
            "8\n",
            "625\n"
          ]
        }
      ],
      "source": [
        "print (2 ** 3)\n",
        "print (5 ** 4)"
      ]
    },
    {
      "cell_type": "markdown",
      "metadata": {
        "id": "o8e6s7RemX8f"
      },
      "source": [
        "### Booleanos"
      ]
    },
    {
      "cell_type": "markdown",
      "metadata": {
        "id": "DVVBK6q-mX8f"
      },
      "source": [
        "Las variables booleanas son de tipo bool, y adminten dos valores \"True\" y \"False\" (case sensitive)."
      ]
    },
    {
      "cell_type": "code",
      "execution_count": null,
      "metadata": {
        "id": "gqfQ9yvYmX8f",
        "outputId": "1125b42b-9265-4573-b0d2-5c80a47f3c0c"
      },
      "outputs": [
        {
          "name": "stdout",
          "output_type": "stream",
          "text": [
            "<class 'bool'>\n",
            "<class 'bool'>\n",
            "False\n",
            "True\n"
          ]
        }
      ],
      "source": [
        "print(type (False))\n",
        "print(type (True))\n",
        "f = False\n",
        "t = True\n",
        "print(f)\n",
        "print(t)"
      ]
    },
    {
      "cell_type": "markdown",
      "metadata": {
        "id": "AcaxNUMYmX8g"
      },
      "source": [
        "Para asignar un valor a partir de una comparación condicional, se utilizan los operadores \"==\" para evaluar la igualdad y \"!=\" para evaluar la inigualdad."
      ]
    },
    {
      "cell_type": "code",
      "execution_count": null,
      "metadata": {
        "id": "KSbLYRS9mX8g",
        "outputId": "3a1fc93e-1d57-4aa2-aed4-9f7b8257c4fd"
      },
      "outputs": [
        {
          "name": "stdout",
          "output_type": "stream",
          "text": [
            "True\n",
            "False\n"
          ]
        }
      ],
      "source": [
        "t = \"True\" == \"True\"\n",
        "f = \"False\" != \"False\"\n",
        "print(t)\n",
        "print(f)"
      ]
    },
    {
      "cell_type": "markdown",
      "metadata": {
        "id": "1dlJQrtKmX8g"
      },
      "source": [
        "Se pueden realizar operaciones booleanas de NOT con \"not\", OR con \"or\" y de AND con \"and\"."
      ]
    },
    {
      "cell_type": "code",
      "execution_count": null,
      "metadata": {
        "id": "xUFdWlLImX8g",
        "outputId": "7840595c-ad11-4dfa-8c8a-86651de5d3f7"
      },
      "outputs": [
        {
          "name": "stdout",
          "output_type": "stream",
          "text": [
            "True\n",
            "False\n"
          ]
        }
      ],
      "source": [
        "caminar = True\n",
        "comer = True\n",
        "print(caminar or comer)\n",
        "print(not (caminar and comer))"
      ]
    },
    {
      "cell_type": "markdown",
      "metadata": {
        "id": "LEpygIk7mX8g"
      },
      "source": [
        "Se pueden comparar valores numéricos con los operadores <, >m <=, >="
      ]
    },
    {
      "cell_type": "code",
      "execution_count": null,
      "metadata": {
        "id": "YMoxABATmX8g",
        "outputId": "a0c036ef-b078-498b-b804-0679996ab2e7"
      },
      "outputs": [
        {
          "name": "stdout",
          "output_type": "stream",
          "text": [
            "True\n"
          ]
        }
      ],
      "source": [
        "print (5==5.0 and 4>1)"
      ]
    },
    {
      "cell_type": "code",
      "execution_count": null,
      "metadata": {
        "id": "-6zqogoCmX8g",
        "outputId": "83ece0e4-cd3f-4303-fc78-eff909466b79"
      },
      "outputs": [
        {
          "name": "stdout",
          "output_type": "stream",
          "text": [
            "False\n",
            "True\n",
            "False\n"
          ]
        }
      ],
      "source": [
        "a = 1\n",
        "b = 2\n",
        "c = 3\n",
        "print (a>b or not(b<c))\n",
        "\n",
        "print (c>b and (a+b<c or b+c>a))\n",
        "print ((a*2>=b or c//2<b) and b*c<a**c)"
      ]
    },
    {
      "cell_type": "markdown",
      "metadata": {
        "id": "Pbk_Z2blmX8g"
      },
      "source": [
        "## Otras funciones útiles"
      ]
    },
    {
      "cell_type": "code",
      "execution_count": null,
      "metadata": {
        "id": "dvNKmHdTmX8g",
        "outputId": "9ced29b6-8097-4177-e88f-a49ef7b4f2f0"
      },
      "outputs": [
        {
          "name": "stdout",
          "output_type": "stream",
          "text": [
            "4\n",
            "1.78\n"
          ]
        }
      ],
      "source": [
        "d = abs(-4)\n",
        "print (d)\n",
        "g = abs(-1.78)\n",
        "print (g)"
      ]
    },
    {
      "cell_type": "code",
      "execution_count": null,
      "metadata": {
        "id": "GdlK-ZDAmX8g",
        "outputId": "fb0512b3-bdca-4c9c-9783-4666b9b3c7f5"
      },
      "outputs": [
        {
          "data": {
            "text/plain": [
              "7"
            ]
          },
          "execution_count": 32,
          "metadata": {},
          "output_type": "execute_result"
        }
      ],
      "source": [
        "e = max (3, 2, 7, 1)\n",
        "e"
      ]
    },
    {
      "cell_type": "code",
      "execution_count": null,
      "metadata": {
        "id": "VVIwIcPKmX8h",
        "outputId": "692ff90a-01ac-4151-cbed-8a6274eccb8d"
      },
      "outputs": [
        {
          "name": "stdout",
          "output_type": "stream",
          "text": [
            "6\n",
            "8\n",
            "3\n",
            "(9+2j)\n"
          ]
        }
      ],
      "source": [
        "print (round(6.4))\n",
        "print (round(8.5))\n",
        "print (round(2.51))\n",
        "\n",
        "cp = complex(9,2)\n",
        "print (cp)"
      ]
    },
    {
      "cell_type": "code",
      "execution_count": null,
      "metadata": {
        "id": "BWh06JqCmX8h",
        "outputId": "8fe6056c-7fa8-4df5-e489-12372313be99"
      },
      "outputs": [
        {
          "name": "stdout",
          "output_type": "stream",
          "text": [
            "65\n"
          ]
        }
      ],
      "source": [
        "print (ord(\"A\"))"
      ]
    },
    {
      "cell_type": "code",
      "execution_count": null,
      "metadata": {
        "id": "J2cYKqdkmX8h",
        "outputId": "f88064d4-7f26-4841-bc5a-65074611b700"
      },
      "outputs": [
        {
          "name": "stdout",
          "output_type": "stream",
          "text": [
            "<class 'bool'>\n",
            "True\n",
            "True\n"
          ]
        }
      ],
      "source": [
        "print(type (True))\n",
        "t = bool(\"1\")\n",
        "f = bool(\"0\")\n",
        "print(t)\n",
        "print(f)"
      ]
    },
    {
      "cell_type": "code",
      "execution_count": null,
      "metadata": {
        "id": "RgTyLvdSmX8h",
        "outputId": "829e6b21-494f-4ef9-995e-70e89b9df030"
      },
      "outputs": [
        {
          "name": "stdout",
          "output_type": "stream",
          "text": [
            "False\n",
            "False\n"
          ]
        },
        {
          "data": {
            "text/plain": [
              "False"
            ]
          },
          "execution_count": 36,
          "metadata": {},
          "output_type": "execute_result"
        }
      ],
      "source": [
        "print (bool (\"\"))\n",
        "print (False)\n",
        "bool (0)"
      ]
    },
    {
      "cell_type": "code",
      "execution_count": null,
      "metadata": {
        "id": "CCyHutYPmX8h",
        "outputId": "e9e310db-08ff-4318-b37b-19a5061944b3"
      },
      "outputs": [
        {
          "name": "stdout",
          "output_type": "stream",
          "text": [
            "9\n",
            "20\n",
            "32\n"
          ]
        }
      ],
      "source": [
        "print(len(\"muy corta\"))\n",
        "print(len(\"esta cadena es corta\"))\n",
        "print(len(\"esta cadena es un poco mas larga\"))"
      ]
    },
    {
      "cell_type": "code",
      "execution_count": null,
      "metadata": {
        "id": "yW_yzULOmX8h",
        "outputId": "213d83af-2a73-4549-bf3a-cce0686a6710"
      },
      "outputs": [
        {
          "name": "stdout",
          "output_type": "stream",
          "text": [
            "Digite un número89\n",
            "el valor es:  89\n",
            "<class 'str'>\n",
            "89\n",
            "<class 'int'>\n"
          ]
        }
      ],
      "source": [
        "variable = input(\"Digite un número\")\n",
        "print (\"el valor es: \",variable)\n",
        "print (type(variable))\n",
        "x = int(variable)\n",
        "print (x)\n",
        "print (type(x))"
      ]
    },
    {
      "cell_type": "markdown",
      "metadata": {
        "id": "GYR4Ik__mX8h"
      },
      "source": [
        "# Estructuras de Control Condicionales"
      ]
    },
    {
      "cell_type": "markdown",
      "metadata": {
        "id": "z40Dh8iNmX8h"
      },
      "source": [
        "En Python es muy importante la indentación, tanto en los condicionales como en los ciclos, se definen bloques indentados después de un caracter \":\""
      ]
    },
    {
      "cell_type": "markdown",
      "metadata": {
        "id": "DWPi7S0bmX8h"
      },
      "source": [
        "## If"
      ]
    },
    {
      "cell_type": "code",
      "execution_count": null,
      "metadata": {
        "id": "OYNYQBRMmX8h"
      },
      "outputs": [],
      "source": [
        "edad = 34\n",
        "if edad < 18:\n",
        "    print (\"Es menor de edad\")"
      ]
    },
    {
      "cell_type": "code",
      "execution_count": null,
      "metadata": {
        "id": "JbXWRVJRmX8h",
        "outputId": "1bbac2d6-b2fc-4193-d99d-9e529793b76a"
      },
      "outputs": [
        {
          "name": "stdout",
          "output_type": "stream",
          "text": [
            "Nombre muy largo!\n"
          ]
        }
      ],
      "source": [
        "nombre = \"Juan de la Encarnación\"\n",
        "if len(nombre) > 15:\n",
        "    print (\"Nombre muy largo!\")\n"
      ]
    },
    {
      "cell_type": "markdown",
      "metadata": {
        "id": "_YzD8pXfmX8i"
      },
      "source": [
        "## Else"
      ]
    },
    {
      "cell_type": "code",
      "execution_count": null,
      "metadata": {
        "id": "podO7mjgmX8i",
        "outputId": "b13a998c-e437-42e0-cda4-9a94b068f4f4"
      },
      "outputs": [
        {
          "name": "stdout",
          "output_type": "stream",
          "text": [
            "Digite la edad: 24\n",
            "Estas en el bloque de código del else\n",
            "Es mayor de edad\n"
          ]
        }
      ],
      "source": [
        "edad = int(input(\"Digite la edad: \"))\n",
        "if edad < 18:\n",
        "    print (\"Estas en el bloque de código del if\")\n",
        "    print (\"Es menor de edad\")\n",
        "else:\n",
        "    print (\"Estas en el bloque de código del else\")\n",
        "    print (\"Es mayor de edad\")"
      ]
    },
    {
      "cell_type": "code",
      "execution_count": null,
      "metadata": {
        "id": "rh8I5KNWmX8i",
        "outputId": "2a9c8e32-c81a-402c-969b-59211b75c539"
      },
      "outputs": [
        {
          "name": "stdout",
          "output_type": "stream",
          "text": [
            "Digite la hora: 19\n",
            "encender luces\n"
          ]
        }
      ],
      "source": [
        "hora = int(input(\"Digite la hora: \"))\n",
        "if hora>=18 or hora<=6:\n",
        "    print (\"encender luces\")\n",
        "else:\n",
        "    print (\"apagar luces\")\n"
      ]
    },
    {
      "cell_type": "code",
      "execution_count": null,
      "metadata": {
        "id": "gQKDjr1HmX8i",
        "outputId": "3a4db746-8efe-49d9-9e09-5dc5d8679bcf"
      },
      "outputs": [
        {
          "name": "stdout",
          "output_type": "stream",
          "text": [
            "Digite la edad: 23\n",
            "Adulto\n"
          ]
        }
      ],
      "source": [
        "edad = int(input(\"Digite la edad: \"))\n",
        "if edad < 2:\n",
        "    print (\"Bebé\")\n",
        "else:\n",
        "    if edad < 12:\n",
        "        print (\"Niño\")\n",
        "    else:\n",
        "        if edad <18:\n",
        "            print (\"Adolescente\")\n",
        "        else:\n",
        "            print (\"Adulto\")\n"
      ]
    },
    {
      "cell_type": "markdown",
      "metadata": {
        "id": "xpQgnG9LmX8i"
      },
      "source": [
        "## Elif"
      ]
    },
    {
      "cell_type": "code",
      "execution_count": null,
      "metadata": {
        "id": "Pox7iuzomX8i",
        "outputId": "652d8659-c03f-4985-945c-b79a9c01e01b"
      },
      "outputs": [
        {
          "name": "stdout",
          "output_type": "stream",
          "text": [
            "Digite la edad: 56\n",
            "Adulto\n"
          ]
        }
      ],
      "source": [
        "edad = int(input(\"Digite la edad: \"))\n",
        "if edad < 2:\n",
        "    print (\"Bebé\")\n",
        "elif edad < 12:\n",
        "    print (\"Niño\")\n",
        "elif edad <18:\n",
        "    print (\"Adolescente\")\n",
        "else:\n",
        "    print (\"Adulto\")\n"
      ]
    },
    {
      "cell_type": "markdown",
      "metadata": {
        "id": "t9Gk17wOmX8i"
      },
      "source": [
        "# Ejercicio: Largo de un nombre"
      ]
    },
    {
      "cell_type": "markdown",
      "metadata": {
        "id": "xU7z667jmX8i"
      },
      "source": [
        "Escriba un programa que dados tres nombres, imprima el nombre mas corto y el mas largo de la siguiente forma:\n",
        "\n",
        "El nombre mas corto es XXXXX\n",
        "\n",
        "El nombre mas largo es HHHH"
      ]
    },
    {
      "cell_type": "markdown",
      "metadata": {
        "id": "3vDW5AxrmX8i"
      },
      "source": [
        "..."
      ]
    },
    {
      "cell_type": "markdown",
      "metadata": {
        "id": "9HhFIdcVmX8i"
      },
      "source": [
        "..."
      ]
    },
    {
      "cell_type": "markdown",
      "metadata": {
        "id": "54mq3BYzmX8i"
      },
      "source": [
        "# Ejercicio: residuo par"
      ]
    },
    {
      "cell_type": "markdown",
      "metadata": {
        "id": "bg73QeqnmX8j"
      },
      "source": [
        "Cree un programa para determinar si la parte entera del residuo de la división de dos números es par o impar"
      ]
    },
    {
      "cell_type": "markdown",
      "metadata": {
        "id": "H6yDbx5vmX8j"
      },
      "source": [
        "..."
      ]
    },
    {
      "cell_type": "markdown",
      "metadata": {
        "id": "59duTIX8mX8j"
      },
      "source": [
        "..."
      ]
    },
    {
      "cell_type": "markdown",
      "metadata": {
        "id": "Z-SpLA7MmX8j"
      },
      "source": [
        "# Ejercicio: áreas de figuras"
      ]
    },
    {
      "cell_type": "markdown",
      "metadata": {
        "id": "eFkJSe9RmX8j"
      },
      "source": [
        "Escriba un programa que imprima un menú de opciones y le pregunte al usuario cuál opción desea. Las opciones del menú son (1) calcular el área de un rectángulo, (2) calcular el perímetro de un triángulo y (3) calcular el área de una circunferencia."
      ]
    },
    {
      "cell_type": "markdown",
      "metadata": {
        "id": "SRXVIctUmX8j"
      },
      "source": [
        "..."
      ]
    },
    {
      "cell_type": "markdown",
      "metadata": {
        "id": "2NNywnJKmX8j"
      },
      "source": [
        "..."
      ]
    },
    {
      "cell_type": "markdown",
      "metadata": {
        "id": "_vhlr_nOmX8j"
      },
      "source": [
        "## Ciclos en Python"
      ]
    },
    {
      "cell_type": "markdown",
      "metadata": {
        "id": "AxFhethTmX8j"
      },
      "source": [
        "La cláusula **while** determinan ciclos iterativos de código que se ejecutan mientras se cumpla una condición especificada antes del separador \":\"."
      ]
    },
    {
      "cell_type": "code",
      "execution_count": null,
      "metadata": {
        "id": "hWvv-dBCmX8j",
        "outputId": "06b0b2ac-dea2-444c-f4a0-a7641636d14e"
      },
      "outputs": [
        {
          "name": "stdout",
          "output_type": "stream",
          "text": [
            "1\n",
            "2\n",
            "3\n",
            "4\n",
            "5\n",
            "6\n",
            "7\n",
            "8\n",
            "9\n",
            "10\n"
          ]
        }
      ],
      "source": [
        "i = 1\n",
        "while i<=10:\n",
        "    print (str(i))\n",
        "    i = i + 1"
      ]
    },
    {
      "cell_type": "markdown",
      "metadata": {
        "id": "LjqN-wN_mX8j"
      },
      "source": [
        "Se pueden anidar ciclos y condicionales"
      ]
    },
    {
      "cell_type": "code",
      "execution_count": null,
      "metadata": {
        "scrolled": false,
        "id": "YvFPN-snmX8j",
        "outputId": "1242262d-25a7-4fe6-8078-43811e564a23"
      },
      "outputs": [
        {
          "name": "stdout",
          "output_type": "stream",
          "text": [
            "1. Buenos días!\n",
            "2. Buen provecho con ese desayuno!\n",
            "3. Buenos días!\n",
            "4. Buen provecho con ese desayuno!\n",
            "5. Buenos días!\n",
            "6. Buen provecho con ese desayuno!\n",
            "7. Buenos días!\n",
            "8. Buen provecho con ese desayuno!\n",
            "9. Buenos días!\n",
            "10. Buen provecho con ese desayuno!\n"
          ]
        }
      ],
      "source": [
        "# ciclos utilizando la clausula while\n",
        "i = 1\n",
        "while i<=10:\n",
        "    if i%2==1:\n",
        "        print (str(i)+\". Buenos días!\")\n",
        "    else:\n",
        "        print (str(i)+\". Buen provecho con ese desayuno!\")\n",
        "    i+=1\n"
      ]
    },
    {
      "cell_type": "markdown",
      "metadata": {
        "id": "9vQLgl7nmX8j"
      },
      "source": [
        "Muchas funciones y objetos no se encuentran en el lenguaje Python de base, sino en módulos (librerías) adicionales.\n",
        "Para poder acceder a ellas, es necesario importarlas, ya sea especificando la librería completa (con **import** y una abreviación de la libería especificada con **as**), ya sea la funcionalidad específica (con **from** e **import**)."
      ]
    },
    {
      "cell_type": "markdown",
      "metadata": {
        "id": "iHtmZCztmX8k"
      },
      "source": [
        "Imprimiendo la hora en Python"
      ]
    },
    {
      "cell_type": "code",
      "execution_count": null,
      "metadata": {
        "id": "lHe7C9t2mX8k",
        "outputId": "75040fc3-10ff-4137-f756-20a428af7a46"
      },
      "outputs": [
        {
          "name": "stdout",
          "output_type": "stream",
          "text": [
            "2020-01-27 17:36:42.552654\n"
          ]
        }
      ],
      "source": [
        "import datetime as dt\n",
        "print(dt.datetime.now())"
      ]
    },
    {
      "cell_type": "code",
      "execution_count": null,
      "metadata": {
        "id": "qFpsFFoLmX8k",
        "outputId": "d1d0361c-696f-4dfe-8f77-d53ea5bb7d85"
      },
      "outputs": [
        {
          "name": "stdout",
          "output_type": "stream",
          "text": [
            "2020-01-27 17:33:50.140778\n"
          ]
        }
      ],
      "source": [
        "from datetime import datetime\n",
        "print(datetime.now())"
      ]
    },
    {
      "cell_type": "code",
      "execution_count": null,
      "metadata": {
        "id": "VHctUv2YmX8k",
        "outputId": "303aec3c-24f1-4c72-ef5e-969743c77741"
      },
      "outputs": [
        {
          "name": "stdout",
          "output_type": "stream",
          "text": [
            "\n",
            "    Menú de opciones\n",
            "    1. Hora actual\n",
            "    2. Salir\n",
            "    Digite la opción:1\n",
            "La fecha y hora actual es: 2020-01-27 17:37:10.355334\n",
            "\n",
            "    Menú de opciones\n",
            "    1. Hora actual\n",
            "    2. Salir\n",
            "    Digite la opción:1\n",
            "La fecha y hora actual es: 2020-01-27 17:37:13.420976\n",
            "\n",
            "    Menú de opciones\n",
            "    1. Hora actual\n",
            "    2. Salir\n",
            "    Digite la opción:2\n"
          ]
        }
      ],
      "source": [
        "from datetime import datetime\n",
        "opcion = 0\n",
        "while opcion != 2:\n",
        "    menuHora = '''\n",
        "    Menú de opciones\n",
        "    1. Hora actual\n",
        "    2. Salir\n",
        "    Digite la opción:'''\n",
        "    opcion = int(input(menuHora))\n",
        "    if opcion==1:\n",
        "        print(\"La fecha y hora actual es: %s\"%(datetime.now()))\n"
      ]
    },
    {
      "cell_type": "code",
      "execution_count": null,
      "metadata": {
        "id": "TjwXF2-CmX8k",
        "outputId": "bf61b444-ed62-4ccb-f787-1abab6c4433f"
      },
      "outputs": [
        {
          "name": "stdout",
          "output_type": "stream",
          "text": [
            "Por favor digite la cantidad de lados del polígono: 5\n",
            "Por favor digite la longitud del lado 1: 12\n",
            "Por favor digite la longitud del lado 2: 13\n",
            "Por favor digite la longitud del lado 3: 12\n",
            "Por favor digite la longitud del lado 4: 15\n",
            "Por favor digite la longitud del lado 5: 11\n",
            "El perímetro del polígono de 5 lados es 63.0\n"
          ]
        }
      ],
      "source": [
        "# version 1.0\n",
        "lados = int(input(\"Por favor digite la cantidad de lados del polígono: \"))\n",
        "\n",
        "if lados>2:\n",
        "    contador = 1\n",
        "    perimetro = 0\n",
        "    while contador <= lados:\n",
        "        longitud = float(input(f\"Por favor digite la longitud del lado {contador}: \"))\n",
        "        perimetro = perimetro + longitud\n",
        "        contador = contador + 1\n",
        "    print(f\"El perímetro del polígono de {lados} lados es {perimetro}\")\n",
        "else:\n",
        "    print(\"No existen polígonos cuya cantidad de lados sea %s\"%lados)"
      ]
    },
    {
      "cell_type": "code",
      "execution_count": null,
      "metadata": {
        "scrolled": true,
        "id": "bgDvQNaJmX8k",
        "outputId": "8bfc156b-5f28-4326-a75a-50b524d92908"
      },
      "outputs": [
        {
          "name": "stdout",
          "output_type": "stream",
          "text": [
            "Por favor digite la cantidad de lados del polígono: 4\n",
            "Por favor digite la longitud del lado 1: 32\n",
            "Por favor digite la longitud del lado 2: 55\n",
            "Por favor digite la longitud del lado 3: 125\n",
            "Por favor digite la longitud del lado 4: 54\n",
            "El perímetro del polígono de 4 lados es 266.0\n"
          ]
        }
      ],
      "source": [
        "# version 2.0\n",
        "lados = 0\n",
        "seguir = 1\n",
        "while lados<=2 and seguir==1:\n",
        "    lados = int(input(\"Por favor digite la cantidad de lados del polígono: \"))\n",
        "    if lados<=2:\n",
        "        print(\"No existen polígonos cuya cantidad de lados sea %s\"%lados)\n",
        "        seguir = int(input(\"Desea seguir intentándolo?\\nDigite 1 para seguir. Digite 2 para salir: \"))\n",
        "\n",
        "if seguir==1:\n",
        "    contador = 1\n",
        "    perimetro = 0\n",
        "    while contador <= lados:\n",
        "        longitud = float(input(f\"Por favor digite la longitud del lado {contador}: \"))\n",
        "        perimetro = perimetro + longitud\n",
        "        contador = contador + 1\n",
        "    print(f\"El perímetro del polígono de {lados} lados es {perimetro}\")"
      ]
    },
    {
      "cell_type": "markdown",
      "metadata": {
        "id": "eqCr4ZzGmX8k"
      },
      "source": [
        "También existen ciclos con la cláusula **for**, en donde se puede especificar un estructura sobre la cual iterar."
      ]
    },
    {
      "cell_type": "code",
      "execution_count": null,
      "metadata": {
        "id": "P4vzVS3PmX8k",
        "outputId": "84f93fc1-3a2f-4704-bae3-fd8cc7522b22"
      },
      "outputs": [
        {
          "name": "stdout",
          "output_type": "stream",
          "text": [
            "Camilo\n",
            "Aura\n",
            "Claudia\n",
            "Daniel\n",
            "Juan\n",
            "Andrea\n"
          ]
        }
      ],
      "source": [
        "personas = [\"Camilo\",\"Aura\",\"Claudia\",\"Daniel\",\"Juan\",\"Andrea\"]\n",
        "for nombre in personas:\n",
        "    print(nombre)"
      ]
    },
    {
      "cell_type": "markdown",
      "metadata": {
        "id": "24wdShjDmX8k"
      },
      "source": [
        "La función **range()** se utiliza a menudo conjuntamente con las instrucciones de ciclos para obtener una estructura iterativa  de rango de índices sobre la cual iterar, definida a partir de un valor de comienzo (0 por defecto) y un valor de final (no incluido). Opcionalmente, se puede especificar el paso de salto entre un valor y el siguiente (que puede ser negativo).  "
      ]
    },
    {
      "cell_type": "code",
      "execution_count": null,
      "metadata": {
        "id": "WqXnH2aomX8k",
        "outputId": "0439d2a4-5619-4008-ab59-37328d69a138"
      },
      "outputs": [
        {
          "name": "stdout",
          "output_type": "stream",
          "text": [
            "0 1 2 3 4 5 \n",
            "10 11 12 13 14 \n",
            "1-3-5-7-9-11-13-15-17-19-\n",
            "10/8/6/4/\n",
            "10/8/6/4/\n",
            "10/8/6/4/2/"
          ]
        }
      ],
      "source": [
        "for i in range(6):\n",
        "    print(i,end=\" \") #Se especifica el espacio \" \" para que no salte la línea\n",
        "print(\"\")\n",
        "for i in range(10,15):\n",
        "    print(i,end=\" \")\n",
        "print(\"\")\n",
        "for z in range(1,20,2):\n",
        "    print(z,end=\"-\")\n",
        "print(\"\")\n",
        "for x in range(10,3,-2):\n",
        "    print(x, end=\"/\")\n",
        "print(\"\")\n",
        "for x in range(10,2,-2): # analicen por qué este ciclo y el anterior tienen el mismo resultado\n",
        "    print(x, end=\"/\")\n",
        "print(\"\")\n",
        "for x in range(10,1,-2):\n",
        "    print(x, end=\"/\")"
      ]
    },
    {
      "cell_type": "code",
      "execution_count": null,
      "metadata": {
        "id": "W-NceNvomX8l",
        "outputId": "51cba825-f7a1-47b8-9f7e-b8bad31c063b"
      },
      "outputs": [
        {
          "name": "stdout",
          "output_type": "stream",
          "text": [
            "1 Camilo\n",
            "2 Aura\n",
            "3 Claudia\n",
            "4 Daniel\n",
            "5 Juan\n",
            "6 Andrea\n"
          ]
        }
      ],
      "source": [
        "for i in range(len(personas)):\n",
        "    print(i+1,personas[i])"
      ]
    },
    {
      "cell_type": "markdown",
      "metadata": {
        "id": "UG2c8S31mX8l"
      },
      "source": [
        "Una cadena de caracteres se puede utilizar como estructura de base sobre la cual iterar"
      ]
    },
    {
      "cell_type": "code",
      "execution_count": null,
      "metadata": {
        "id": "EaMH4p-AmX8l",
        "outputId": "ec8fa416-f655-4ccc-b69f-5fbc00102130"
      },
      "outputs": [
        {
          "name": "stdout",
          "output_type": "stream",
          "text": [
            "Digite un nombre: Manuel\n",
            "M,a,n,u,e,l,"
          ]
        }
      ],
      "source": [
        "nombre = input(\"Digite un nombre: \")\n",
        "for c in nombre:\n",
        "    print(c,end=\",\")"
      ]
    },
    {
      "cell_type": "markdown",
      "metadata": {
        "id": "CdoGSpCYmX8l"
      },
      "source": [
        "# Listas"
      ]
    },
    {
      "cell_type": "markdown",
      "metadata": {
        "id": "PbvPt2S2mX8l"
      },
      "source": [
        "Las listas en Python se definen con los corchetes \"\\[\" y \"\\]\". Se trata de conjuntos de valores que no necesariamente tienen el mismo tipo"
      ]
    },
    {
      "cell_type": "code",
      "execution_count": null,
      "metadata": {
        "id": "tzNsLuBImX8l"
      },
      "outputs": [],
      "source": [
        "l1 = [9, \"cadena\", 8.4]"
      ]
    },
    {
      "cell_type": "code",
      "execution_count": null,
      "metadata": {
        "id": "VcQ6eC-OmX8l",
        "outputId": "4fd1e535-5fd1-4e71-da34-51a360920bf0"
      },
      "outputs": [
        {
          "name": "stdout",
          "output_type": "stream",
          "text": [
            "[9, 'cadena', 8.4]\n"
          ]
        }
      ],
      "source": [
        "print(l1)"
      ]
    },
    {
      "cell_type": "markdown",
      "metadata": {
        "id": "9ZufrxzVmX8l"
      },
      "source": [
        "Se puede acceder a cada miembro de una lista indexando, empezando en 0."
      ]
    },
    {
      "cell_type": "code",
      "execution_count": null,
      "metadata": {
        "id": "LcQpaiEfmX8l",
        "outputId": "ef6dac4d-94a9-46c1-d5cf-e6af193c9a64"
      },
      "outputs": [
        {
          "name": "stdout",
          "output_type": "stream",
          "text": [
            "16\n",
            "1\n"
          ]
        }
      ],
      "source": [
        "cuadrados = [1, 4, 9, 16, 25]\n",
        "print(cuadrados[3])\n",
        "print(cuadrados[0])"
      ]
    },
    {
      "cell_type": "markdown",
      "metadata": {
        "id": "5nS_-ZyymX8l"
      },
      "source": [
        "Se permiten índices negativos, empezando en -1."
      ]
    },
    {
      "cell_type": "code",
      "execution_count": null,
      "metadata": {
        "id": "mpI0wrF_mX8l",
        "outputId": "c49e5451-a7e4-4419-951d-6767b04f81db"
      },
      "outputs": [
        {
          "name": "stdout",
          "output_type": "stream",
          "text": [
            "25\n",
            "16\n",
            "1\n"
          ]
        }
      ],
      "source": [
        "print(cuadrados[-1])\n",
        "print(cuadrados[-2])\n",
        "print(cuadrados[-5])"
      ]
    },
    {
      "cell_type": "markdown",
      "metadata": {
        "id": "2YPNZS56mX8l"
      },
      "source": [
        "Se puede hacer \"slicing\" con un rango de posiciones, utilizando el operador \":\", especificando el índice del comienzo (incluido) y el del final (no incluido)"
      ]
    },
    {
      "cell_type": "code",
      "execution_count": null,
      "metadata": {
        "id": "TF3lyeGxmX8m",
        "outputId": "a2920997-b34c-4826-b1eb-86c359a74a92"
      },
      "outputs": [
        {
          "name": "stdout",
          "output_type": "stream",
          "text": [
            "[4, 9]\n"
          ]
        }
      ],
      "source": [
        "print(cuadrados[1:3])"
      ]
    },
    {
      "cell_type": "markdown",
      "metadata": {
        "id": "a0h5ly2QmX8m"
      },
      "source": [
        "Si no se especifica el comienzo (o final) del rango, se asume que se trata desde el primer elemento (o último elemento)."
      ]
    },
    {
      "cell_type": "code",
      "execution_count": null,
      "metadata": {
        "id": "UOPu2dtJmX8m",
        "outputId": "a9ca1ed8-b050-46aa-fba4-e112e3a1a5da"
      },
      "outputs": [
        {
          "name": "stdout",
          "output_type": "stream",
          "text": [
            "[9, 16, 25]\n"
          ]
        }
      ],
      "source": [
        "print(cuadrados[2:])"
      ]
    },
    {
      "cell_type": "code",
      "execution_count": null,
      "metadata": {
        "id": "_BfbfZpHmX8m",
        "outputId": "c000ed22-14a7-44cd-d4fd-2b22326e484b"
      },
      "outputs": [
        {
          "name": "stdout",
          "output_type": "stream",
          "text": [
            "[1, 4, 9, 16]\n"
          ]
        }
      ],
      "source": [
        "print(cuadrados[:4])"
      ]
    },
    {
      "cell_type": "code",
      "execution_count": null,
      "metadata": {
        "id": "kSYmSqBmmX8m",
        "outputId": "50fd00f8-97b1-4544-98cc-b3254c2dcfbb"
      },
      "outputs": [
        {
          "name": "stdout",
          "output_type": "stream",
          "text": [
            "[1, 4, 9, 16, 25]\n"
          ]
        }
      ],
      "source": [
        "print(cuadrados[:])"
      ]
    },
    {
      "cell_type": "markdown",
      "metadata": {
        "id": "dhxqalnDmX8m"
      },
      "source": [
        "Con el operador \"+\", se concatenan las listas"
      ]
    },
    {
      "cell_type": "code",
      "execution_count": null,
      "metadata": {
        "id": "V8v3bny6mX8m",
        "outputId": "4a023261-17ee-4fd2-ca29-e1a7f3de7a6c"
      },
      "outputs": [
        {
          "name": "stdout",
          "output_type": "stream",
          "text": [
            "[1, 4, 9, 16, 25, 36, 49, 64, 81]\n"
          ]
        }
      ],
      "source": [
        "cuadrados = cuadrados + [36, 49, 64, 81]\n",
        "print(cuadrados)"
      ]
    },
    {
      "cell_type": "code",
      "execution_count": null,
      "metadata": {
        "id": "n1ftSGg1mX8m",
        "outputId": "6ece9b01-7a13-45e5-bfe6-5655392253f7"
      },
      "outputs": [
        {
          "name": "stdout",
          "output_type": "stream",
          "text": [
            "[1, 4, 9, 16, 25, 36, 49, 64, 81, 99, 99]\n",
            "11\n"
          ]
        }
      ],
      "source": [
        "cuadrados = cuadrados + [99,99]\n",
        "print(cuadrados)\n",
        "print(len(cuadrados))"
      ]
    },
    {
      "cell_type": "code",
      "execution_count": null,
      "metadata": {
        "id": "urx5v84gmX8m",
        "outputId": "68f8de02-47a1-4c61-9a97-4a07a7e76132"
      },
      "outputs": [
        {
          "name": "stdout",
          "output_type": "stream",
          "text": [
            "[1, 4, 9, 16, 25, 36, 49, 64, 81, 100, 121]\n"
          ]
        }
      ],
      "source": [
        "cuadrados[9] = 100\n",
        "cuadrados[10] = 121\n",
        "print(cuadrados)"
      ]
    },
    {
      "cell_type": "markdown",
      "metadata": {
        "id": "F8y-P2yomX8m"
      },
      "source": [
        "También se puede concatenar con el método **append**."
      ]
    },
    {
      "cell_type": "code",
      "execution_count": null,
      "metadata": {
        "id": "8SbycwfMmX8m",
        "outputId": "f049fcfd-4bb8-4192-b704-58f1575c2f5a"
      },
      "outputs": [
        {
          "name": "stdout",
          "output_type": "stream",
          "text": [
            "[1, 4, 9, 16, 25, 36, 49, 64, 81, 100, 121, 144]\n"
          ]
        }
      ],
      "source": [
        "cuadrados.append(144)\n",
        "print(cuadrados)"
      ]
    },
    {
      "cell_type": "markdown",
      "metadata": {
        "id": "R1NezfbrmX8m"
      },
      "source": [
        "Se pueden utilizar las listas como objeto de iteración"
      ]
    },
    {
      "cell_type": "code",
      "execution_count": null,
      "metadata": {
        "id": "nMJ4QA57mX8n",
        "outputId": "2dbb998c-c0c2-4c10-9b22-024f3c7f25a7"
      },
      "outputs": [
        {
          "name": "stdout",
          "output_type": "stream",
          "text": [
            "1--4--9--16--25--36--49--64--81--100--121--144--"
          ]
        }
      ],
      "source": [
        "for i in cuadrados:\n",
        "    print(i, end=\"--\")"
      ]
    },
    {
      "cell_type": "markdown",
      "metadata": {
        "id": "khXl_qWOmX8n"
      },
      "source": [
        "Se pueden modificar los elementos de una lista con asignación normal, usando rangos.\n",
        "\n",
        "Se pueden incluir listas dentro de listas, y utilizar múltiple indexación para acceder a los contenidos. No hay restricciones con respecto a la dimensionalidad de las listas compuestas (como si lo habría en una matriz)."
      ]
    },
    {
      "cell_type": "code",
      "execution_count": null,
      "metadata": {
        "id": "-pUmlNZtmX8n",
        "outputId": "72f1f5bd-7ff0-4a8d-a491-1418a4657309"
      },
      "outputs": [
        {
          "name": "stdout",
          "output_type": "stream",
          "text": [
            "['a', 'b', 'c', 'd', 'e', 'f', 'g']\n",
            "['a', 'b', 'C', 'D', 'F', 'f', 'g']\n",
            "['f']\n",
            "['f', 'g']\n",
            "[['x', 'y', 'z'], 'b', 'C', 'D', 'F', 'f', 'g']\n",
            "z\n"
          ]
        }
      ],
      "source": [
        "letras = ['a','b','c','d','e','f','g']\n",
        "print(letras)\n",
        "letras[2:5] = ['C','D','F']\n",
        "print(letras)\n",
        "print(letras[-2:-1])\n",
        "print(letras[-2:])\n",
        "letras[0:1] = [['x', 'y', 'z']]\n",
        "print(letras)\n",
        "print(letras[0][2])"
      ]
    },
    {
      "cell_type": "code",
      "execution_count": null,
      "metadata": {
        "id": "wYJDsjBGmX8n",
        "outputId": "7f6f8273-7c61-44f5-eadc-0e9094a1c321"
      },
      "outputs": [
        {
          "name": "stdout",
          "output_type": "stream",
          "text": [
            "range(4, 15, 2)\n",
            "[4, 6, 8, 10, 12, 14]\n",
            "[100, 250, 400, 550, 700, 850, 1000, 1150, 1300, 1450, 1600, 1750, 1900, 2050, 2200, 2350, 2500, 2650, 2800, 2950]\n"
          ]
        }
      ],
      "source": [
        "r = range(4,15,2)\n",
        "print(r)\n",
        "lr = list(r)\n",
        "print(lr)\n",
        "print(list(range(100,3000,150)))"
      ]
    },
    {
      "cell_type": "markdown",
      "metadata": {
        "id": "-S1NPlTdmX8n"
      },
      "source": [
        "Se puede utilizar el operador **in** para evaluar si un elemento es parte o no de una lista."
      ]
    },
    {
      "cell_type": "code",
      "execution_count": null,
      "metadata": {
        "id": "ly602zf6mX8n",
        "outputId": "e3a784f5-030c-4e9c-9b3e-76b1f207cb85"
      },
      "outputs": [
        {
          "data": {
            "text/plain": [
              "False"
            ]
          },
          "execution_count": 26,
          "metadata": {},
          "output_type": "execute_result"
        }
      ],
      "source": [
        "lista = [2,3,4]\n",
        "i = 5 in lista\n",
        "i"
      ]
    },
    {
      "cell_type": "markdown",
      "metadata": {
        "id": "d7-kR3GOmX8n"
      },
      "source": [
        "Las cadenas de caracteres se pueden tratar como listas."
      ]
    },
    {
      "cell_type": "code",
      "execution_count": null,
      "metadata": {
        "id": "dVaNo7DYmX8n",
        "outputId": "47ea6546-5c95-4ed5-f4b8-45ec60bea0c6"
      },
      "outputs": [
        {
          "name": "stdout",
          "output_type": "stream",
          "text": [
            "Hola a todo\n"
          ]
        }
      ],
      "source": [
        "cadena = \"Hola a todos\"\n",
        "print(cadena[:-1])"
      ]
    },
    {
      "cell_type": "code",
      "execution_count": null,
      "metadata": {
        "id": "OUI9JKp6mX8n",
        "outputId": "3c5d7483-ae7b-4f37-a04a-ff0adc881bc4"
      },
      "outputs": [
        {
          "name": "stdout",
          "output_type": "stream",
          "text": [
            "P\n"
          ]
        },
        {
          "ename": "TypeError",
          "evalue": "'str' object does not support item assignment",
          "output_type": "error",
          "traceback": [
            "\u001b[1;31m---------------------------------------------------------------------------\u001b[0m",
            "\u001b[1;31mTypeError\u001b[0m                                 Traceback (most recent call last)",
            "\u001b[1;32m<ipython-input-52-f86ae40b4fa1>\u001b[0m in \u001b[0;36m<module>\u001b[1;34m\u001b[0m\n\u001b[0;32m      3\u001b[0m \u001b[1;33m\u001b[0m\u001b[0m\n\u001b[0;32m      4\u001b[0m \u001b[1;31m#las cadenas de caracteres son inmutables (no se pueden modificar):\u001b[0m\u001b[1;33m\u001b[0m\u001b[1;33m\u001b[0m\u001b[1;33m\u001b[0m\u001b[0m\n\u001b[1;32m----> 5\u001b[1;33m \u001b[0mfrase\u001b[0m\u001b[1;33m[\u001b[0m\u001b[1;36m0\u001b[0m\u001b[1;33m]\u001b[0m \u001b[1;33m=\u001b[0m \u001b[1;34m\"p\"\u001b[0m\u001b[1;33m\u001b[0m\u001b[1;33m\u001b[0m\u001b[0m\n\u001b[0m",
            "\u001b[1;31mTypeError\u001b[0m: 'str' object does not support item assignment"
          ]
        }
      ],
      "source": [
        "frase = \"Python nació en 1991\"\n",
        "print(frase[0])\n",
        "\n",
        "#las cadenas de caracteres son inmutables (no se pueden modificar):\n",
        "frase[0] = \"p\""
      ]
    },
    {
      "cell_type": "markdown",
      "metadata": {
        "id": "2DryyMfvmX8n"
      },
      "source": [
        "Existen operaciones como **lower()** y **upper()** que reciben cadenas como entrada y producen nuevas cadenas con el contenido transformado."
      ]
    },
    {
      "cell_type": "code",
      "execution_count": null,
      "metadata": {
        "id": "a0utelN0mX8n",
        "outputId": "d580310b-428a-43c4-dcde-cfb26acefc2d"
      },
      "outputs": [
        {
          "name": "stdout",
          "output_type": "stream",
          "text": [
            "Python nació en 1991\n",
            "python nació en 1991\n",
            "PYTHON NACIÓ EN 1991\n"
          ]
        }
      ],
      "source": [
        "frase1 = \"Python nació en 1991\"\n",
        "frase2 = frase1.lower()\n",
        "frase3 = frase1.upper()\n",
        "\n",
        "print(frase1)\n",
        "print(frase2)\n",
        "print(frase3)"
      ]
    },
    {
      "cell_type": "markdown",
      "metadata": {
        "id": "M9xvz2FdmX8o"
      },
      "source": [
        "# Ejercicio: conteo sobre listas"
      ]
    },
    {
      "cell_type": "markdown",
      "metadata": {
        "id": "w7aVykYUmX8o"
      },
      "source": [
        "Escriba un programa que permita leer n números enteros, luego lea un (1) número y diga cuántas veces se encuentra en el listado inicial"
      ]
    },
    {
      "cell_type": "markdown",
      "metadata": {
        "id": "1CvEqFnrmX8o"
      },
      "source": [
        "..."
      ]
    },
    {
      "cell_type": "markdown",
      "metadata": {
        "id": "yafkegrymX8o"
      },
      "source": [
        "..."
      ]
    },
    {
      "cell_type": "markdown",
      "metadata": {
        "id": "Hr_n__armX8o"
      },
      "source": [
        "# Tuplas"
      ]
    },
    {
      "cell_type": "markdown",
      "metadata": {
        "id": "SUuzV60AmX8o"
      },
      "source": [
        "Las tuplas son estructuras similares a las listas, permiten agrupar valores de diferentes tipos, pero al contrario de estas últimas, son inmutables.\n",
        "Se definen usualmente utilizando paréntesis en vez de corchetes, aunque en realidad no son obligatorios."
      ]
    },
    {
      "cell_type": "code",
      "execution_count": null,
      "metadata": {
        "id": "lPBDb6WEmX8o",
        "outputId": "a7f4ba68-349d-46e8-a7a4-7897df75ace1"
      },
      "outputs": [
        {
          "name": "stdout",
          "output_type": "stream",
          "text": [
            "(34, 56, 11)\n",
            "(34, 56, 11)\n",
            "34\n"
          ]
        },
        {
          "ename": "TypeError",
          "evalue": "'tuple' object does not support item assignment",
          "output_type": "error",
          "traceback": [
            "\u001b[1;31m---------------------------------------------------------------------------\u001b[0m",
            "\u001b[1;31mTypeError\u001b[0m                                 Traceback (most recent call last)",
            "\u001b[1;32m<ipython-input-87-b54f5d917d57>\u001b[0m in \u001b[0;36m<module>\u001b[1;34m\u001b[0m\n\u001b[0;32m      5\u001b[0m \u001b[0mprint\u001b[0m\u001b[1;33m(\u001b[0m\u001b[0mtupla\u001b[0m\u001b[1;33m[\u001b[0m\u001b[1;36m0\u001b[0m\u001b[1;33m]\u001b[0m\u001b[1;33m)\u001b[0m\u001b[1;33m\u001b[0m\u001b[1;33m\u001b[0m\u001b[0m\n\u001b[0;32m      6\u001b[0m \u001b[1;33m\u001b[0m\u001b[0m\n\u001b[1;32m----> 7\u001b[1;33m \u001b[0mtupla\u001b[0m\u001b[1;33m[\u001b[0m\u001b[1;36m1\u001b[0m\u001b[1;33m]\u001b[0m \u001b[1;33m=\u001b[0m \u001b[1;36m74\u001b[0m \u001b[1;31m# Por qué no funciona esta línea?\u001b[0m\u001b[1;33m\u001b[0m\u001b[1;33m\u001b[0m\u001b[0m\n\u001b[0m",
            "\u001b[1;31mTypeError\u001b[0m: 'tuple' object does not support item assignment"
          ]
        }
      ],
      "source": [
        "tupla = (34, 56, 11)\n",
        "print(tupla)\n",
        "tupla = 34, 56, 11\n",
        "print(tupla)\n",
        "print(tupla[0])\n",
        "\n",
        "tupla[1] = 74 # Por qué no funciona esta línea?"
      ]
    },
    {
      "cell_type": "code",
      "execution_count": null,
      "metadata": {
        "id": "e62ab-6UmX8o",
        "outputId": "fad26ff2-e0c4-4102-edf2-4eddb29fa157"
      },
      "outputs": [
        {
          "name": "stdout",
          "output_type": "stream",
          "text": [
            "('Ana', 'Paz', 35)\n"
          ]
        }
      ],
      "source": [
        "persona = (\"Ana\",\"Paz\",35)\n",
        "print(persona)"
      ]
    },
    {
      "cell_type": "markdown",
      "metadata": {
        "id": "h6gneHS6mX8o"
      },
      "source": [
        "Para definir una tupla de un solo elemento, es necesario especificar la coma separatoria, de lo contrario Python no permite su creación como tupla."
      ]
    },
    {
      "cell_type": "code",
      "execution_count": null,
      "metadata": {
        "id": "fqy-8oNNmX8o",
        "outputId": "24eefedd-6217-4d71-a932-6763ec949ca4"
      },
      "outputs": [
        {
          "name": "stdout",
          "output_type": "stream",
          "text": [
            "45\n",
            "<class 'int'>\n",
            "(45,)\n",
            "<class 'tuple'>\n"
          ]
        }
      ],
      "source": [
        "x = (45)\n",
        "print(x)\n",
        "print(type(x))\n",
        "x = (45,)\n",
        "print(x)\n",
        "print(type(x))"
      ]
    },
    {
      "cell_type": "markdown",
      "metadata": {
        "id": "YLc5-3WSmX8o"
      },
      "source": [
        "Se pueden crear tuplas vacías."
      ]
    },
    {
      "cell_type": "code",
      "execution_count": null,
      "metadata": {
        "id": "ZoecKTbVmX8o",
        "outputId": "e635d4e1-cb60-44d9-a42f-1c37b71c36b5"
      },
      "outputs": [
        {
          "name": "stdout",
          "output_type": "stream",
          "text": [
            "()\n",
            "0\n",
            "1\n",
            "3\n",
            "3\n"
          ]
        }
      ],
      "source": [
        "z = ()\n",
        "print(z)\n",
        "print(len(z))\n",
        "print(len(x))\n",
        "print(len(tupla))\n",
        "print(len(persona))"
      ]
    },
    {
      "cell_type": "markdown",
      "metadata": {
        "id": "QvNOZ6wimX8o"
      },
      "source": [
        "Los operadores de las listas también aplican a las tuplas."
      ]
    },
    {
      "cell_type": "code",
      "execution_count": null,
      "metadata": {
        "id": "LyUl0Mm9mX8p",
        "outputId": "8fcf638a-6d1c-4db9-807f-864449df1ca7"
      },
      "outputs": [
        {
          "name": "stdout",
          "output_type": "stream",
          "text": [
            "(34, 56, 11, 64, 82, 10)\n",
            "(34, 56, 11, 64, 82, 10, 64, 82, 10)\n"
          ]
        }
      ],
      "source": [
        "print(tupla)\n",
        "tupla = tupla + (64, 82, 10)\n",
        "print(tupla)"
      ]
    },
    {
      "cell_type": "markdown",
      "metadata": {
        "id": "kHmvh7jomX8p"
      },
      "source": [
        "Se pueden tener tuplas de tuplas."
      ]
    },
    {
      "cell_type": "code",
      "execution_count": null,
      "metadata": {
        "id": "-oAENO3GmX8p",
        "outputId": "c4da9de8-2369-4b09-9690-b9881072983e"
      },
      "outputs": [
        {
          "name": "stdout",
          "output_type": "stream",
          "text": [
            "(('Luis', 'padre', 'amarillo'), ('Felipe', 'hijo', True), ('Doris', 'prima', [5, 6, 7, 8], 3.1))\n"
          ]
        }
      ],
      "source": [
        "familia = (\n",
        "    (\"Luis\",\"padre\",\"amarillo\"),\n",
        "    (\"Felipe\",\"hijo\",True),\n",
        "    (\"Doris\",\"prima\",[5,6,7,8],3.1)\n",
        ")\n",
        "print(familia)"
      ]
    },
    {
      "cell_type": "code",
      "execution_count": null,
      "metadata": {
        "id": "nj02y4OfmX8p",
        "outputId": "82ac73d5-eded-4bfe-b40e-13f8db62db9c"
      },
      "outputs": [
        {
          "name": "stdout",
          "output_type": "stream",
          "text": [
            "Paz\n",
            "[5, 6, 7, 8]\n"
          ]
        }
      ],
      "source": [
        "print(persona[1]); print(familia[2][2])"
      ]
    },
    {
      "cell_type": "code",
      "execution_count": null,
      "metadata": {
        "id": "5sNRUIoXmX8p",
        "outputId": "d26a32d7-7795-4607-d620-5cfcd07e821b"
      },
      "outputs": [
        {
          "name": "stdout",
          "output_type": "stream",
          "text": [
            "([150, 320, 474], [42, 86])\n",
            "([210, 320, 474], [42, 86])\n",
            "([210, 320, 474, 872], [42, 86])\n"
          ]
        }
      ],
      "source": [
        "gastos = ([150,320,474],[42,86])\n",
        "print (gastos)\n",
        "\n",
        "gastos[0][0] = 210\n",
        "print(gastos)\n",
        "\n",
        "gastos[0].append(872)\n",
        "print(gastos)"
      ]
    },
    {
      "cell_type": "markdown",
      "metadata": {
        "id": "BIu3qjHVmX8p"
      },
      "source": [
        "Las tuplas permiten \"empacar\" y \"desempacar\" grupos de valores.\n",
        "Esto es útil cuando una función devuelve varios valores y permite no tener que utilizar índices específicos o un ciclo para asignarlos a variables de retorno."
      ]
    },
    {
      "cell_type": "code",
      "execution_count": null,
      "metadata": {
        "id": "UyPtnN14mX8p",
        "outputId": "a5b5d4b4-714d-4435-e936-c8857ad1d64d"
      },
      "outputs": [
        {
          "name": "stdout",
          "output_type": "stream",
          "text": [
            "(1, 2, 3, 4)\n",
            "('AB', 'CD', 'EF')\n",
            "(7,)\n",
            "1 2 3 4\n",
            "['a', 'b', 'c', 'd', 'e']\n",
            "['a', 'b', 'c', 'd', 'e']\n",
            "a b c d\n",
            "('a', 'b', 'c', 'd')\n"
          ]
        }
      ],
      "source": [
        "x = 1,2,3,4 #packing\n",
        "print(x)\n",
        "a = \"AB\"\n",
        "b = \"CD\"\n",
        "c = \"EF\"\n",
        "z = a,b,c\n",
        "print(z)\n",
        "\n",
        "m,n,o,p = x #unpacking\n",
        "#m = x[0]; n = x[1]; o = x[2]; p = x[3]\n",
        "print(m,n,o,p)\n",
        "\n",
        "lista = ['a','b','c','d','e']\n",
        "print(lista)\n",
        "x1,x2,x3,x4,x5 = lista\n",
        "print(lista)\n",
        "print(x1,x2,x3,x4)\n",
        "tupla_de_lista = (x1,x2,x3,x4)\n",
        "print(tupla_de_lista)"
      ]
    },
    {
      "cell_type": "markdown",
      "metadata": {
        "id": "vk-zuMZMmX8p"
      },
      "source": [
        "# Conjuntos"
      ]
    },
    {
      "cell_type": "markdown",
      "metadata": {
        "id": "utSOtKSAmX8p"
      },
      "source": [
        "Los conjuntos son como las listas o tuplas, pero no pueden tener elementos repetidos.\n",
        "Además, no tienen un orden definido, por lo que no se puede acceder directamente a los elementos contenidos."
      ]
    },
    {
      "cell_type": "code",
      "execution_count": null,
      "metadata": {
        "id": "bk2-5k82mX8p",
        "outputId": "1ec43680-87db-4204-ef21-893bf2a5d2e0"
      },
      "outputs": [
        {
          "name": "stdout",
          "output_type": "stream",
          "text": [
            "{1, 3, 'Mandarina', 'Piña', 'Limón'}\n"
          ]
        }
      ],
      "source": [
        "cesta = {\"Limón\",\"Mandarina\",\"Limón\",\"Piña\",\"Piña\",3, 1}\n",
        "print(cesta)"
      ]
    },
    {
      "cell_type": "code",
      "execution_count": null,
      "metadata": {
        "id": "MFrt2Sq5mX8p",
        "outputId": "4829d825-d743-4a03-fa8d-ba90b2ef99d3"
      },
      "outputs": [
        {
          "name": "stdout",
          "output_type": "stream",
          "text": [
            "{}\n"
          ]
        }
      ],
      "source": [
        "vacio = {}\n",
        "print(vacio)"
      ]
    },
    {
      "cell_type": "code",
      "execution_count": null,
      "metadata": {
        "id": "uPHnIYd2mX8p",
        "outputId": "4ca27efb-dad1-49c6-cc2c-b715d4c93052"
      },
      "outputs": [
        {
          "name": "stdout",
          "output_type": "stream",
          "text": [
            "True\n",
            "False\n"
          ]
        }
      ],
      "source": [
        "print(\"Piña\" in cesta)\n",
        "print(\"Naranja\" in cesta)"
      ]
    },
    {
      "cell_type": "code",
      "execution_count": null,
      "metadata": {
        "id": "-d-YADx6mX8q",
        "outputId": "3b952045-4806-49f8-bbcb-f452cba8259e"
      },
      "outputs": [
        {
          "name": "stdout",
          "output_type": "stream",
          "text": [
            "5\n"
          ]
        }
      ],
      "source": [
        "print(len(cesta))"
      ]
    },
    {
      "cell_type": "code",
      "execution_count": null,
      "metadata": {
        "id": "_c3m8EwHmX8q",
        "outputId": "4bd840df-0904-40ca-c7f1-9ee711aaed8a"
      },
      "outputs": [
        {
          "name": "stdout",
          "output_type": "stream",
          "text": [
            "{'d', 'e', 'k', 'h', 'g', 'i', 'a', 'b', 'f', 'j', 'c'}\n"
          ]
        }
      ],
      "source": [
        "letras = set(\"abcdefghijk\")\n",
        "print(letras)"
      ]
    },
    {
      "cell_type": "code",
      "execution_count": null,
      "metadata": {
        "id": "pJbzOHYTmX8q",
        "outputId": "e102de45-7ca3-40dd-9d32-e927f6677432"
      },
      "outputs": [
        {
          "name": "stdout",
          "output_type": "stream",
          "text": [
            "{34, 66, 90, 38, 70, 42, 74, 46, 78, 50, 82, 54, 86, 62, 94, 58, 30}\n",
            "[30, 34, 38, 42, 46, 50, 54, 58, 62, 66, 70, 74, 78, 82, 86, 90, 94]\n"
          ]
        }
      ],
      "source": [
        "codigos = set(range(30,98,4))\n",
        "print(codigos)\n",
        "codigos2 = list(range(30,98,4))\n",
        "print(codigos2)"
      ]
    },
    {
      "cell_type": "markdown",
      "metadata": {
        "id": "QokGCyYKmX8q"
      },
      "source": [
        "Se pueden realizar operaciones de conjuntos, como la intersección con el caracter \"&\", la unión con \"|\", la diferencia con \"-\", XOR con \"^\", evaluar si los elementos de un conjunto están dentro de otro con \">=\" o \"<=\"."
      ]
    },
    {
      "cell_type": "code",
      "execution_count": null,
      "metadata": {
        "id": "y-SKZgAJmX8q",
        "outputId": "b935e43f-23d6-4d71-91a5-390ec92784f4"
      },
      "outputs": [
        {
          "name": "stdout",
          "output_type": "stream",
          "text": [
            "{'d', 'e', 'm', 'k', 'h', 'g', 'i', 'a', 'l', 'b', 'f', 'j', 'c'}\n",
            "{'e', 'g', 'i', 'a', 'c'}\n"
          ]
        }
      ],
      "source": [
        "A = set(\"abcdefghi\")\n",
        "B = set(\"acegijklm\")\n",
        "union = A|B\n",
        "print(union)\n",
        "interseccion = A&B\n",
        "print(interseccion)"
      ]
    },
    {
      "cell_type": "code",
      "execution_count": null,
      "metadata": {
        "id": "gl94ufoDmX8q",
        "outputId": "83d90466-834c-4e47-ba11-e1337b2d1926"
      },
      "outputs": [
        {
          "name": "stdout",
          "output_type": "stream",
          "text": [
            "{1, 3, 4}\n",
            "{'d', 'k', 'h', 'l', 'b', 'm', 'j', 'f'}\n",
            "{'d', 'e', 'h', 'g', 'i', 'a', 'b', 'f', 'c'}\n"
          ]
        }
      ],
      "source": [
        "print(set([1,2,3])^set([2,4]))\n",
        "xor = A^B\n",
        "print(xor)\n",
        "diferencia = A-B\n",
        "print(A)"
      ]
    },
    {
      "cell_type": "code",
      "execution_count": null,
      "metadata": {
        "id": "PeUJDDZCmX8q",
        "outputId": "83fbf672-8564-4c70-a6c2-4774da8d5e32"
      },
      "outputs": [
        {
          "name": "stdout",
          "output_type": "stream",
          "text": [
            "d e h g i a b f c "
          ]
        }
      ],
      "source": [
        "for elem in A:\n",
        "    print(elem,end=\" \")"
      ]
    },
    {
      "cell_type": "markdown",
      "metadata": {
        "id": "cXXVlQ49mX8q"
      },
      "source": [
        "# Diccionarios"
      ]
    },
    {
      "cell_type": "markdown",
      "metadata": {
        "id": "iggkXeATmX8q"
      },
      "source": [
        "Los diccionarios son una estructura que agrupa mapeos de llaves con valores.\n",
        "Las llaves pueden ser cualquier tipo de datos inmutable: cadenas de caracteres, números o tuplas que contengan solo cadenas, números o tuplas pueden servir de llaves."
      ]
    },
    {
      "cell_type": "code",
      "execution_count": null,
      "metadata": {
        "id": "1Imse3t8mX8q",
        "outputId": "c9ec5fd0-cb86-477e-b3e9-21f767344b73"
      },
      "outputs": [
        {
          "name": "stdout",
          "output_type": "stream",
          "text": [
            "{'color': 'rojo', 'area': 340}\n",
            "rojo\n",
            "340\n",
            "['color', 'area']\n",
            "dict_items([('color', 'rojo'), ('area', 340)])\n",
            "True\n",
            "False\n"
          ]
        }
      ],
      "source": [
        "casa = {\"color\":\"rojo\",\"area\":340}\n",
        "print(casa)\n",
        "print(casa[\"color\"])\n",
        "print(casa[\"area\"])\n",
        "print(list(casa))\n",
        "print(casa.items())\n",
        "print(\"area\" in casa)\n",
        "print(\"precio\" in casa)"
      ]
    },
    {
      "cell_type": "markdown",
      "metadata": {
        "id": "cw7cnUmDmX8r"
      },
      "source": [
        "Los diccionarios se pueden tomar como una estructura iterativa en un ciclo de **for**.\n",
        "Si se hace directamente, se itera sobre las llaves.\n",
        "Se puede iterar al mismo tiempo sobre llave y valor al utilizar su método **items()*."
      ]
    },
    {
      "cell_type": "code",
      "execution_count": null,
      "metadata": {
        "id": "W2_-lUyLmX8r",
        "outputId": "14d13304-b212-4c57-b498-8de083286064"
      },
      "outputs": [
        {
          "name": "stdout",
          "output_type": "stream",
          "text": [
            "peso:62\n",
            "altura:1.72\n",
            "edad:28\n",
            "\n",
            "peso:62\n",
            "altura:1.72\n",
            "edad:28\n"
          ]
        }
      ],
      "source": [
        "salud = {\"peso\":62, \"altura\":1.72, \"edad\":28}\n",
        "for llave in salud:\n",
        "    print(llave, \":\", salud[llave], sep=\"\")\n",
        "print()\n",
        "for llave, valor in salud.items():\n",
        "    print(llave, \":\", salud[llave], sep=\"\")"
      ]
    },
    {
      "cell_type": "markdown",
      "metadata": {
        "id": "mC64iQbPmX8r"
      },
      "source": [
        "Se puede definir un diccionario a través de una estructura de lista y tuplas."
      ]
    },
    {
      "cell_type": "code",
      "execution_count": null,
      "metadata": {
        "id": "Kwa-OG6BmX8r",
        "outputId": "c0b774dd-ca55-43e5-871c-80c30c27d293"
      },
      "outputs": [
        {
          "name": "stdout",
          "output_type": "stream",
          "text": [
            "{'nombre': 'silla', 'precio': 24500.0, 'cantidad': 12}\n",
            "{'nombre': 'silla', 'precio': '$24500.0', 'cantidad': 12}\n"
          ]
        }
      ],
      "source": [
        "producto = dict([(\"nombre\",\"silla\"),(\"precio\",24500.0),(\"cantidad\",12)])\n",
        "print(producto)\n",
        "producto[\"precio\"] = \"$\"+str(producto[\"precio\"])\n",
        "print(producto)"
      ]
    },
    {
      "cell_type": "markdown",
      "metadata": {
        "id": "nnaRlU_wmX8r"
      },
      "source": [
        "# Funciones"
      ]
    },
    {
      "cell_type": "markdown",
      "metadata": {
        "id": "P2G8X5NImX8r"
      },
      "source": [
        "Se definen funciones con parámetros de entrada y un valor de salida. Este puede ser una tupla, de tal manera que se retornen varios valores a la vez, que pueden ser fácilmente \"desempaquetados\" al retorna del llamado a la función en cuestión."
      ]
    },
    {
      "cell_type": "code",
      "execution_count": null,
      "metadata": {
        "id": "2bTSyYQmmX8r",
        "outputId": "a44e0c8e-afd3-4670-e968-3f49ede6aefa"
      },
      "outputs": [
        {
          "name": "stdout",
          "output_type": "stream",
          "text": [
            "8\n",
            "Hola Mundo!\n",
            "[2, 7, 9, 1, 3, 6, 0]\n"
          ]
        }
      ],
      "source": [
        "def suma(x,y):\n",
        "    return x+y\n",
        "\n",
        "z = suma(5,3)\n",
        "print(z)\n",
        "\n",
        "a = suma(\"Hola \",\"Mundo!\")\n",
        "print(a)\n",
        "\n",
        "l = suma([2,7,9],[1,3,6,0])\n",
        "print(l)"
      ]
    },
    {
      "cell_type": "code",
      "execution_count": null,
      "metadata": {
        "id": "1gesCLBumX8r",
        "outputId": "29e6cbe4-0068-4f6a-ee08-a0ea1b47f945"
      },
      "outputs": [
        {
          "name": "stdout",
          "output_type": "stream",
          "text": [
            "los dos números que siguen a 15 son: 16 y 17\n"
          ]
        }
      ],
      "source": [
        "def siguientes2(x):\n",
        "    return (x+1, x+2)\n",
        "\n",
        "a=15\n",
        "(b, c) = siguientes2(a)\n",
        "print(\"los dos números que siguen a {} son: {} y {}\".format(a,b,c))"
      ]
    },
    {
      "cell_type": "markdown",
      "metadata": {
        "id": "m4s1vkyRmX8r"
      },
      "source": [
        "# Ejercicio: Función de Fibonacci"
      ]
    },
    {
      "cell_type": "markdown",
      "metadata": {
        "id": "YXPQNJBamX8r"
      },
      "source": [
        "Escriba un función que reciba un parámetro *x* y retorne la lista con los primeros *x* dígitos de la serie de Fibonacci"
      ]
    },
    {
      "cell_type": "markdown",
      "metadata": {
        "id": "Or-pQ9xsmX8r"
      },
      "source": [
        "..."
      ]
    },
    {
      "cell_type": "markdown",
      "metadata": {
        "id": "4oCOfYjSmX8r"
      },
      "source": [
        "..."
      ]
    },
    {
      "cell_type": "markdown",
      "metadata": {
        "id": "gzf4N4tjmX8r"
      },
      "source": [
        "# Clases y objetos"
      ]
    },
    {
      "cell_type": "code",
      "execution_count": null,
      "metadata": {
        "id": "qaA0UNi8mX8r",
        "outputId": "9d5a5405-486a-415d-8177-024b526d07bb"
      },
      "outputs": [
        {
          "name": "stdout",
          "output_type": "stream",
          "text": [
            "0.375\n",
            "0.5\n",
            "1.25\n",
            "\n",
            "3/8\n",
            "1/2\n",
            "5/4\n"
          ]
        }
      ],
      "source": [
        "class NumeroRacional:\n",
        "    def __init__(self, p, q):\n",
        "        self.p = p\n",
        "        self.q = q\n",
        "\n",
        "    def calcularNumeroReal(self):\n",
        "        numero = self.p / self.q\n",
        "        return numero\n",
        "\n",
        "    def imprimir(self):\n",
        "        print(\"%s/%s\"%(self.p,self.q))\n",
        "\n",
        "x = NumeroRacional(3,8)\n",
        "y = NumeroRacional(1,2)\n",
        "z = NumeroRacional(5,4)\n",
        "\n",
        "print(x.calcularNumeroReal())\n",
        "print(y.calcularNumeroReal())\n",
        "print(z.calcularNumeroReal())\n",
        "\n",
        "print()\n",
        "\n",
        "x.imprimir()\n",
        "y.imprimir()\n",
        "z.imprimir()\n"
      ]
    }
  ],
  "metadata": {
    "kernelspec": {
      "display_name": "Python 3",
      "language": "python",
      "name": "python3"
    },
    "language_info": {
      "codemirror_mode": {
        "name": "ipython",
        "version": 3
      },
      "file_extension": ".py",
      "mimetype": "text/x-python",
      "name": "python",
      "nbconvert_exporter": "python",
      "pygments_lexer": "ipython3",
      "version": "3.9.7"
    },
    "colab": {
      "provenance": [],
      "include_colab_link": true
    }
  },
  "nbformat": 4,
  "nbformat_minor": 0
}